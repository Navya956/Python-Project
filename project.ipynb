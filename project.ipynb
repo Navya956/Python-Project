{
 "cells": [
  {
   "cell_type": "code",
   "execution_count": 1,
   "id": "808bc05a-9713-4608-9c0a-d8f59e2ebb7c",
   "metadata": {},
   "outputs": [],
   "source": [
    "import pandas as pd\n",
    "import numpy as np"
   ]
  },
  {
   "cell_type": "code",
   "execution_count": 2,
   "id": "6c773b6e-b729-40ec-9f6f-e0dde734227f",
   "metadata": {},
   "outputs": [],
   "source": [
    "df = pd.read_csv('excel.csv')"
   ]
  },
  {
   "cell_type": "code",
   "execution_count": 3,
   "id": "cf73a355-fb5e-4e03-8eac-b879e6800d94",
   "metadata": {},
   "outputs": [],
   "source": [
    "#replace  the height\n",
    "df['height'] = np.random.randint(150,181, size=len(df))"
   ]
  },
  {
   "cell_type": "code",
   "execution_count": 4,
   "id": "1ec7fabb-c5f6-4347-9679-f0deb15dda99",
   "metadata": {},
   "outputs": [],
   "source": [
    "#count the no:of employees in each team\n",
    "team_counts = df['Team'].value_counts()"
   ]
  },
  {
   "cell_type": "code",
   "execution_count": 5,
   "id": "c7e83e9e-f048-4acc-905e-242eba503f76",
   "metadata": {},
   "outputs": [],
   "source": [
    "#calculate the % split\n",
    "total_employees = len(df)\n",
    "percentage_split = team_counts/total_employees * 100"
   ]
  },
  {
   "cell_type": "code",
   "execution_count": 6,
   "id": "987b9375-a2b4-4bef-97e8-dca6a157ed5a",
   "metadata": {},
   "outputs": [
    {
     "name": "stdout",
     "output_type": "stream",
     "text": [
      "Team\n",
      "New Orleans Pelicans      19\n",
      "Memphis Grizzlies         18\n",
      "Utah Jazz                 16\n",
      "New York Knicks           16\n",
      "Milwaukee Bucks           16\n",
      "Brooklyn Nets             15\n",
      "Portland Trail Blazers    15\n",
      "Oklahoma City Thunder     15\n",
      "Denver Nuggets            15\n",
      "Washington Wizards        15\n",
      "Miami Heat                15\n",
      "Charlotte Hornets         15\n",
      "Atlanta Hawks             15\n",
      "San Antonio Spurs         15\n",
      "Houston Rockets           15\n",
      "Boston Celtics            15\n",
      "Indiana Pacers            15\n",
      "Detroit Pistons           15\n",
      "Cleveland Cavaliers       15\n",
      "Chicago Bulls             15\n",
      "Sacramento Kings          15\n",
      "Phoenix Suns              15\n",
      "Los Angeles Lakers        15\n",
      "Los Angeles Clippers      15\n",
      "Golden State Warriors     15\n",
      "Toronto Raptors           15\n",
      "Philadelphia 76ers        15\n",
      "Dallas Mavericks          15\n",
      "Orlando Magic             14\n",
      "Minnesota Timberwolves    14\n",
      "Name: count, dtype: int64\n"
     ]
    }
   ],
   "source": [
    "print(team_counts)"
   ]
  },
  {
   "cell_type": "code",
   "execution_count": 7,
   "id": "ce757c57-8508-4030-ab84-ae89e23e2ef2",
   "metadata": {},
   "outputs": [
    {
     "name": "stdout",
     "output_type": "stream",
     "text": [
      "Team\n",
      "New Orleans Pelicans      4.148472\n",
      "Memphis Grizzlies         3.930131\n",
      "Utah Jazz                 3.493450\n",
      "New York Knicks           3.493450\n",
      "Milwaukee Bucks           3.493450\n",
      "Brooklyn Nets             3.275109\n",
      "Portland Trail Blazers    3.275109\n",
      "Oklahoma City Thunder     3.275109\n",
      "Denver Nuggets            3.275109\n",
      "Washington Wizards        3.275109\n",
      "Miami Heat                3.275109\n",
      "Charlotte Hornets         3.275109\n",
      "Atlanta Hawks             3.275109\n",
      "San Antonio Spurs         3.275109\n",
      "Houston Rockets           3.275109\n",
      "Boston Celtics            3.275109\n",
      "Indiana Pacers            3.275109\n",
      "Detroit Pistons           3.275109\n",
      "Cleveland Cavaliers       3.275109\n",
      "Chicago Bulls             3.275109\n",
      "Sacramento Kings          3.275109\n",
      "Phoenix Suns              3.275109\n",
      "Los Angeles Lakers        3.275109\n",
      "Los Angeles Clippers      3.275109\n",
      "Golden State Warriors     3.275109\n",
      "Toronto Raptors           3.275109\n",
      "Philadelphia 76ers        3.275109\n",
      "Dallas Mavericks          3.275109\n",
      "Orlando Magic             3.056769\n",
      "Minnesota Timberwolves    3.056769\n",
      "Name: count, dtype: float64\n"
     ]
    }
   ],
   "source": [
    "print(percentage_split)"
   ]
  },
  {
   "cell_type": "code",
   "execution_count": 8,
   "id": "397b6605-4bcc-40ef-b8ac-5ef8752d8bf7",
   "metadata": {},
   "outputs": [],
   "source": [
    "#Group employees by their positions\n",
    "grouped_employees = df.groupby('Position')"
   ]
  },
  {
   "cell_type": "code",
   "execution_count": 9,
   "id": "f594e3df-88d8-47c3-8362-3a9975bbd940",
   "metadata": {},
   "outputs": [
    {
     "name": "stdout",
     "output_type": "stream",
     "text": [
      "Employees in Cposition:\n",
      "                Name                    Team  Number Position  Age  Height  \\\n",
      "7       Kelly Olynyk          Boston Celtics      41        C   25     7-0   \n",
      "10   Jared Sullinger          Boston Celtics       7        C   24  06-Sep   \n",
      "14      Tyler Zeller          Boston Celtics      44        C   26     7-0   \n",
      "23       Brook Lopez           Brooklyn Nets      11        C   28     7-0   \n",
      "27        Henry Sims           Brooklyn Nets      14        C   26  06-Oct   \n",
      "..               ...                     ...     ...      ...  ...     ...   \n",
      "439    Mason Plumlee  Portland Trail Blazers      24        C   26  06-Nov   \n",
      "447      Rudy Gobert               Utah Jazz      27        C   23  07-Jan   \n",
      "455     Tibor Pleiss               Utah Jazz      21        C   26  07-Mar   \n",
      "456      Jeff Withey               Utah Jazz      24        C   26     7-0   \n",
      "457         Priyanka               Utah Jazz      34        C   25  07-Mar   \n",
      "\n",
      "     Weight         College      Salary  height  \n",
      "7       238         Gonzaga   2165160.0     160  \n",
      "10      260      Ohio State   2569260.0     179  \n",
      "14      253  North Carolina   2616975.0     165  \n",
      "23      275        Stanford  19689000.0     157  \n",
      "27      248      Georgetown    947276.0     179  \n",
      "..      ...             ...         ...     ...  \n",
      "439     235            Duke   1415520.0     165  \n",
      "447     245             NaN   1175880.0     165  \n",
      "455     256             NaN   2900000.0     151  \n",
      "456     231          Kansas    947276.0     175  \n",
      "457     231          Kansas    947276.0     170  \n",
      "\n",
      "[79 rows x 10 columns]\n",
      "\n",
      "Employees in PFposition:\n",
      "                 Name                    Team  Number Position  Age  Height  \\\n",
      "4       Jonas Jerebko          Boston Celtics       8       PF   29  06-Oct   \n",
      "5        Amir Johnson          Boston Celtics      90       PF   29  06-Sep   \n",
      "6       Jordan Mickey          Boston Celtics      55       PF   21  06-Aug   \n",
      "24   Chris McCullough           Brooklyn Nets       1       PF   21  06-Nov   \n",
      "25        Willie Reed           Brooklyn Nets      33       PF   26  06-Oct   \n",
      "..                ...                     ...     ...      ...  ...     ...   \n",
      "435    Meyers Leonard  Portland Trail Blazers      11       PF   24  07-Jan   \n",
      "441       Noah Vonleh  Portland Trail Blazers      21       PF   20  06-Sep   \n",
      "442     Trevor Booker               Utah Jazz      33       PF   28  06-Aug   \n",
      "446    Derrick Favors               Utah Jazz      15       PF   24  06-Oct   \n",
      "452        Trey Lyles               Utah Jazz      41       PF   20  06-Oct   \n",
      "\n",
      "     Weight       College      Salary  height  \n",
      "4       231           NaN   5000000.0     161  \n",
      "5       240           NaN  12000000.0     155  \n",
      "6       235           LSU   1170960.0     180  \n",
      "24      200      Syracuse   1140240.0     155  \n",
      "25      220   Saint Louis    947276.0     151  \n",
      "..      ...           ...         ...     ...  \n",
      "435     245      Illinois   3075880.0     154  \n",
      "441     240       Indiana   2637720.0     162  \n",
      "442     228       Clemson   4775000.0     159  \n",
      "446     265  Georgia Tech  12000000.0     170  \n",
      "452     234      Kentucky   2239800.0     179  \n",
      "\n",
      "[100 rows x 10 columns]\n",
      "\n",
      "Employees in PGposition:\n",
      "              Name                    Team  Number Position  Age  Height  \\\n",
      "0    Avery Bradley          Boston Celtics       0       PG   25  06-Feb   \n",
      "8     Terry Rozier          Boston Celtics      12       PG   22  06-Feb   \n",
      "9     Marcus Smart          Boston Celtics      36       PG   22  06-Apr   \n",
      "11   Isaiah Thomas          Boston Celtics       4       PG   27  05-Sep   \n",
      "19    Jarrett Jack           Brooklyn Nets       2       PG   32  06-Mar   \n",
      "..             ...                     ...     ...      ...  ...     ...   \n",
      "440  Brian Roberts  Portland Trail Blazers       2       PG   30  06-Jan   \n",
      "443     Trey Burke               Utah Jazz       3       PG   23  06-Jan   \n",
      "445     Dante Exum               Utah Jazz      11       PG   20  06-Jun   \n",
      "453   Shelvin Mack               Utah Jazz       8       PG   26  06-Mar   \n",
      "454      Raul Neto               Utah Jazz      25       PG   24  06-Jan   \n",
      "\n",
      "     Weight         College     Salary  height  \n",
      "0       180           Texas  7730337.0     179  \n",
      "8       190      Louisville  1824360.0     169  \n",
      "9       220  Oklahoma State  3431040.0     171  \n",
      "11      185      Washington  6912869.0     153  \n",
      "19      200    Georgia Tech  6300000.0     150  \n",
      "..      ...             ...        ...     ...  \n",
      "440     173          Dayton  2854940.0     172  \n",
      "443     191        Michigan  2658240.0     162  \n",
      "445     190             NaN  3777720.0     154  \n",
      "453     203          Butler  2433333.0     171  \n",
      "454     179             NaN   900000.0     167  \n",
      "\n",
      "[92 rows x 10 columns]\n",
      "\n",
      "Employees in SFposition:\n",
      "                       Name                    Team  Number Position  Age  \\\n",
      "1               Jae Crowder          Boston Celtics      99       SF   25   \n",
      "32   Thanasis Antetokounmpo         New York Knicks      43       SF   23   \n",
      "33          Carmelo Anthony         New York Knicks       7       SF   32   \n",
      "35         Cleanthony Early         New York Knicks      11       SF   25   \n",
      "42             Lance Thomas         New York Knicks      42       SF   28   \n",
      "..                      ...                     ...     ...      ...  ...   \n",
      "428         Al-Farouq Aminu  Portland Trail Blazers       8       SF   25   \n",
      "432        Maurice Harkless  Portland Trail Blazers       4       SF   23   \n",
      "448          Gordon Hayward               Utah Jazz      20       SF   26   \n",
      "450              Joe Ingles               Utah Jazz       2       SF   28   \n",
      "451           Chris Johnson               Utah Jazz      23       SF   26   \n",
      "\n",
      "     Height  Weight        College      Salary  height  \n",
      "1    06-Jun     235      Marquette   6796117.0     153  \n",
      "32   06-Jul     205            NaN     30888.0     173  \n",
      "33   06-Aug     240       Syracuse  22875000.0     176  \n",
      "35   06-Aug     210  Wichita State    845059.0     153  \n",
      "42   06-Aug     235           Duke   1636842.0     173  \n",
      "..      ...     ...            ...         ...     ...  \n",
      "428  06-Sep     215    Wake Forest   8042895.0     170  \n",
      "432  06-Sep     215     St. John's   2894059.0     163  \n",
      "448  06-Aug     226         Butler  15409570.0     151  \n",
      "450  06-Aug     226            NaN   2050000.0     170  \n",
      "451  06-Jun     206         Dayton    981348.0     166  \n",
      "\n",
      "[85 rows x 10 columns]\n",
      "\n",
      "Employees in SGposition:\n",
      "                 Name                    Team  Number Position  Age  Height  \\\n",
      "2        John Holland          Boston Celtics      30       SG   27  06-May   \n",
      "3         R.J. Hunter          Boston Celtics      28       SG   22  06-May   \n",
      "12        Evan Turner          Boston Celtics      11       SG   27  06-Jul   \n",
      "13        James Young          Boston Celtics      13       SG   20  06-Jun   \n",
      "15   Bojan Bogdanovic           Brooklyn Nets      44       SG   27  06-Aug   \n",
      "..                ...                     ...     ...      ...  ...     ...   \n",
      "433  Gerald Henderson  Portland Trail Blazers       9       SG   28  06-May   \n",
      "437     C.J. McCollum  Portland Trail Blazers       3       SG   24  06-Apr   \n",
      "438      Luis Montero  Portland Trail Blazers      44       SG   23  06-Jul   \n",
      "444        Alec Burks               Utah Jazz      10       SG   24  06-Jun   \n",
      "449       Rodney Hood               Utah Jazz       5       SG   23  06-Aug   \n",
      "\n",
      "     Weight            College     Salary  height  \n",
      "2       205  Boston University        NaN     179  \n",
      "3       185      Georgia State  1148640.0     150  \n",
      "12      220         Ohio State  3425510.0     180  \n",
      "13      215           Kentucky  1749840.0     180  \n",
      "15      216                NaN  3425510.0     158  \n",
      "..      ...                ...        ...     ...  \n",
      "433     215               Duke  6000000.0     169  \n",
      "437     200             Lehigh  2525160.0     158  \n",
      "438     185     Westchester CC   525093.0     178  \n",
      "444     214           Colorado  9463484.0     176  \n",
      "449     206               Duke  1348440.0     175  \n",
      "\n",
      "[102 rows x 10 columns]\n",
      "\n"
     ]
    }
   ],
   "source": [
    "#print the employees in each position\n",
    "for position, group in grouped_employees:\n",
    "    print(f\"Employees in {position}position:\")\n",
    "    print(group)\n",
    "    print()"
   ]
  },
  {
   "cell_type": "code",
   "execution_count": 10,
   "id": "edee2a2b-3074-4d3e-9135-b3ebcc90c308",
   "metadata": {},
   "outputs": [],
   "source": [
    "#Define age group\n",
    "age_group = {'Young Adults':(18,29),'Middle_Aged Adults':(30,49),'Older Adults':(50,65)}"
   ]
  },
  {
   "cell_type": "code",
   "execution_count": 11,
   "id": "452fe2b3-276b-4c1a-85df-74d36cf37ce6",
   "metadata": {},
   "outputs": [],
   "source": [
    "#Categorize employees into age groups\n",
    "df['Age Group'] = pd.cut(df['Age'],bins=[18, 29, 49, 65], labels=['Young Adults', 'Middile_Aged Adults', 'Older Adults'])"
   ]
  },
  {
   "cell_type": "code",
   "execution_count": 12,
   "id": "a18ecc97-411e-4c3f-b010-11218847946b",
   "metadata": {},
   "outputs": [],
   "source": [
    "#count the employees in each age group\n",
    "age_group_counts = df['Age Group'].value_counts()"
   ]
  },
  {
   "cell_type": "code",
   "execution_count": 13,
   "id": "cb0915ca-2c8d-4939-89be-227ef4c19e9e",
   "metadata": {},
   "outputs": [],
   "source": [
    "#find the prdominant age group\n",
    "predominant_age_group = age_group_counts.idxmax()"
   ]
  },
  {
   "cell_type": "code",
   "execution_count": 14,
   "id": "da9e38c6-2737-4b83-bdc7-9b0345178ca0",
   "metadata": {},
   "outputs": [
    {
     "name": "stdout",
     "output_type": "stream",
     "text": [
      "The predominant age group amoung employees is:Young Adults\n"
     ]
    }
   ],
   "source": [
    "print(f\"The predominant age group amoung employees is:{predominant_age_group}\")"
   ]
  },
  {
   "cell_type": "code",
   "execution_count": 15,
   "id": "7cc01b9d-8b93-4f8d-a818-6958fc27dbd0",
   "metadata": {},
   "outputs": [],
   "source": [
    "#calculate the sum of Salary\n",
    "grouped_data = df.groupby(['Team','Position'])['Salary'].sum()"
   ]
  },
  {
   "cell_type": "code",
   "execution_count": 16,
   "id": "f0e8e54b-af5b-448b-96f8-3405c766254a",
   "metadata": {},
   "outputs": [],
   "source": [
    "#find the team and postion with highest salary expenditure\n",
    "highest_salary_team_position = grouped_data.idxmax()\n",
    "highest_salary_expenditure = grouped_data.max()"
   ]
  },
  {
   "cell_type": "code",
   "execution_count": 53,
   "id": "6af744d3-d17a-4ea4-8555-47471daaa96e",
   "metadata": {},
   "outputs": [
    {
     "name": "stdout",
     "output_type": "stream",
     "text": [
      "Team and Postion with the highest salary expenditure:\n",
      "('Los Angeles Lakers', 'SF')\n",
      "Total Salary Expenditure:31866445.0\n"
     ]
    }
   ],
   "source": [
    "print(f\"Team and Postion with the highest salary expenditure:\")\n",
    "print(highest_salary_team_position)\n",
    "print(f\"Total Salary Expenditure:{highest_salary_expenditure}\")"
   ]
  },
  {
   "cell_type": "code",
   "execution_count": 55,
   "id": "051d6841-efc0-4f5a-8955-95e84979d588",
   "metadata": {},
   "outputs": [],
   "source": [
    "import seaborn as sns\n",
    "import matplotlib.pyplot as plt"
   ]
  },
  {
   "cell_type": "code",
   "execution_count": 57,
   "id": "59f44f88-8d12-43f1-942e-f9d5a07fa76d",
   "metadata": {},
   "outputs": [
    {
     "data": {
      "image/png": "[encoded data removed]",
      "text/plain": [
       "<Figure size 640x480 with 1 Axes>"
      ]
     },
     "metadata": {},
     "output_type": "display_data"
    }
   ],
   "source": [
    "#investigate correlation between age and salary &visual representation\n",
    "sns.scatterplot(x='Age',y='Salary',data=df)\n",
    "plt.xlabel('Age')\n",
    "plt.ylabel('Salary')\n",
    "plt.title('Age & Salary')\n",
    "plt.show()"
   ]
  },
  {
   "cell_type": "code",
   "execution_count": 59,
   "id": "49bd2084-12a0-498c-b860-a344c715dd57",
   "metadata": {},
   "outputs": [
    {
     "name": "stdout",
     "output_type": "stream",
     "text": [
      "correlation between Age & Salary 0.21400941226570974\n"
     ]
    }
   ],
   "source": [
    "correlation = df['Age'].corr(df['Salary'])\n",
    "print('correlation between Age & Salary',correlation)"
   ]
  },
  {
   "cell_type": "code",
   "execution_count": null,
   "id": "5f46bbb7-e9dd-47bd-83d4-d1a969193768",
   "metadata": {},
   "outputs": [],
   "source": []
  }
 ],
 "metadata": {
  "kernelspec": {
   "display_name": "Python 3 (ipykernel)",
   "language": "python",
   "name": "python3"
  },
  "language_info": {
   "codemirror_mode": {
    "name": "ipython",
    "version": 3
   },
   "file_extension": ".py",
   "mimetype": "text/x-python",
   "name": "python",
   "nbconvert_exporter": "python",
   "pygments_lexer": "ipython3",
   "version": "3.12.4"
  }
 },
 "nbformat": 4,
 "nbformat_minor": 5
}
